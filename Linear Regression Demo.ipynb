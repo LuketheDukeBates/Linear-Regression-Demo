{
 "cells": [
  {
   "cell_type": "markdown",
   "metadata": {},
   "source": [
    "# Machine Learning Exercise - Univariate and Multivariate Linear Regression\n"
   ]
  },
  {
   "cell_type": "markdown",
   "metadata": {},
   "source": [
    "Hey there, hi there, ho there, dear reader! Today, Andrew Ng's machine learning class (https://www.coursera.org/learn/machine-learning) has tasked us with implementing univariate and multivariate linear regression for a couple different data sets. Linear regression basically means trying to draw the best possible line we can, where the \"best line\" just means a line that is as close as possible to all the data. In this notebook, I try to explain the logic, the math, and the code in detail, so I hope you find it helpful. \n",
    "\n",
    "\n",
    "Recommended python tutorial for machine learning:\n",
    "http://cs231n.github.io/python-numpy-tutorial/#numpy-arrays\n",
    "\n",
    "This notebook was inspired by http://www.johnwittenauer.net/machine-learning-exercises-in-python-part-1/. Check out his webpage if you're interesting in machine learning or data science."
   ]
  },
  {
   "cell_type": "markdown",
   "metadata": {},
   "source": [
    "## Univariate linear regression"
   ]
  },
  {
   "cell_type": "markdown",
   "metadata": {},
   "source": [
    "Who's hungry? I ask because Andrew Ng wants us to suppose we are the CEO of a restaurant franchise and are considering different cities for opening a new outlet. The chain already has trucks in various cities and we have data for profits and populations from the cities. We want to use this data to select which city to expand to next. The data is contained in the file ex1data1.txt The first column is population in thousands of people and the second is profit in thousands of dollars.\n",
    "\n",
    "\n",
    "Let's start by importing some libraries and examining the data.\n",
    "Numpy will be used for math and data manipulation stuff and we will call it 'np'. So, when we want to use numpy, we'll just say 'np'.\n",
    "Pandas will be used for data manipulation and preprocessing (pre-machine learning data wrangling) and we will call it 'pd'.\n",
    "matplotlib has function called 'pyplot' which we will use for the plotting of figures and we will call it 'plt'.\n",
    "The reason we use only part of matplotlib is because we don't need the whole library. \n",
    "Importing the whole library is bad coding practice because it loads too much into memory, creates dependencies we may\n",
    "be unaware of, and gives us access to functions we may not need/want/be aware of."
   ]
  },
  {
   "cell_type": "code",
   "execution_count": 572,
   "metadata": {},
   "outputs": [],
   "source": [
    "#####################################\n",
    "#UNIVARIATE LINEAR REGRESSION\n",
    "#####################################\n",
    "\n",
    "import numpy as np\n",
    "import pandas as pd\n",
    "import matplotlib.pyplot as plt\n",
    "%matplotlib inline"
   ]
  },
  {
   "cell_type": "code",
   "execution_count": 573,
   "metadata": {},
   "outputs": [
    {
     "data": {
      "text/html": [
       "<div>\n",
       "<style scoped>\n",
       "    .dataframe tbody tr th:only-of-type {\n",
       "        vertical-align: middle;\n",
       "    }\n",
       "\n",
       "    .dataframe tbody tr th {\n",
       "        vertical-align: top;\n",
       "    }\n",
       "\n",
       "    .dataframe thead th {\n",
       "        text-align: right;\n",
       "    }\n",
       "</style>\n",
       "<table border=\"1\" class=\"dataframe\">\n",
       "  <thead>\n",
       "    <tr style=\"text-align: right;\">\n",
       "      <th></th>\n",
       "      <th>Population</th>\n",
       "      <th>Profit</th>\n",
       "    </tr>\n",
       "  </thead>\n",
       "  <tbody>\n",
       "    <tr>\n",
       "      <th>0</th>\n",
       "      <td>6.1101</td>\n",
       "      <td>17.5920</td>\n",
       "    </tr>\n",
       "    <tr>\n",
       "      <th>1</th>\n",
       "      <td>5.5277</td>\n",
       "      <td>9.1302</td>\n",
       "    </tr>\n",
       "    <tr>\n",
       "      <th>2</th>\n",
       "      <td>8.5186</td>\n",
       "      <td>13.6620</td>\n",
       "    </tr>\n",
       "    <tr>\n",
       "      <th>3</th>\n",
       "      <td>7.0032</td>\n",
       "      <td>11.8540</td>\n",
       "    </tr>\n",
       "    <tr>\n",
       "      <th>4</th>\n",
       "      <td>5.8598</td>\n",
       "      <td>6.8233</td>\n",
       "    </tr>\n",
       "  </tbody>\n",
       "</table>\n",
       "</div>"
      ],
      "text/plain": [
       "   Population   Profit\n",
       "0      6.1101  17.5920\n",
       "1      5.5277   9.1302\n",
       "2      8.5186  13.6620\n",
       "3      7.0032  11.8540\n",
       "4      5.8598   6.8233"
      ]
     },
     "execution_count": 573,
     "metadata": {},
     "output_type": "execute_result"
    }
   ],
   "source": [
    "#this code assumes the text file is in the same directory as the code file\n",
    "#read in the data, create a panda's dataframe, and view the top and bottom\n",
    "data = pd.read_csv('ex1data1.txt', header=None, names=['Population', 'Profit'])\n",
    "data.head()"
   ]
  },
  {
   "cell_type": "code",
   "execution_count": 574,
   "metadata": {},
   "outputs": [
    {
     "data": {
      "text/html": [
       "<div>\n",
       "<style scoped>\n",
       "    .dataframe tbody tr th:only-of-type {\n",
       "        vertical-align: middle;\n",
       "    }\n",
       "\n",
       "    .dataframe tbody tr th {\n",
       "        vertical-align: top;\n",
       "    }\n",
       "\n",
       "    .dataframe thead th {\n",
       "        text-align: right;\n",
       "    }\n",
       "</style>\n",
       "<table border=\"1\" class=\"dataframe\">\n",
       "  <thead>\n",
       "    <tr style=\"text-align: right;\">\n",
       "      <th></th>\n",
       "      <th>Population</th>\n",
       "      <th>Profit</th>\n",
       "    </tr>\n",
       "  </thead>\n",
       "  <tbody>\n",
       "    <tr>\n",
       "      <th>92</th>\n",
       "      <td>5.8707</td>\n",
       "      <td>7.20290</td>\n",
       "    </tr>\n",
       "    <tr>\n",
       "      <th>93</th>\n",
       "      <td>5.3054</td>\n",
       "      <td>1.98690</td>\n",
       "    </tr>\n",
       "    <tr>\n",
       "      <th>94</th>\n",
       "      <td>8.2934</td>\n",
       "      <td>0.14454</td>\n",
       "    </tr>\n",
       "    <tr>\n",
       "      <th>95</th>\n",
       "      <td>13.3940</td>\n",
       "      <td>9.05510</td>\n",
       "    </tr>\n",
       "    <tr>\n",
       "      <th>96</th>\n",
       "      <td>5.4369</td>\n",
       "      <td>0.61705</td>\n",
       "    </tr>\n",
       "  </tbody>\n",
       "</table>\n",
       "</div>"
      ],
      "text/plain": [
       "    Population   Profit\n",
       "92      5.8707  7.20290\n",
       "93      5.3054  1.98690\n",
       "94      8.2934  0.14454\n",
       "95     13.3940  9.05510\n",
       "96      5.4369  0.61705"
      ]
     },
     "execution_count": 574,
     "metadata": {},
     "output_type": "execute_result"
    }
   ],
   "source": [
    "data.tail()"
   ]
  },
  {
   "cell_type": "code",
   "execution_count": 575,
   "metadata": {},
   "outputs": [
    {
     "data": {
      "text/html": [
       "<div>\n",
       "<style scoped>\n",
       "    .dataframe tbody tr th:only-of-type {\n",
       "        vertical-align: middle;\n",
       "    }\n",
       "\n",
       "    .dataframe tbody tr th {\n",
       "        vertical-align: top;\n",
       "    }\n",
       "\n",
       "    .dataframe thead th {\n",
       "        text-align: right;\n",
       "    }\n",
       "</style>\n",
       "<table border=\"1\" class=\"dataframe\">\n",
       "  <thead>\n",
       "    <tr style=\"text-align: right;\">\n",
       "      <th></th>\n",
       "      <th>Population</th>\n",
       "      <th>Profit</th>\n",
       "    </tr>\n",
       "  </thead>\n",
       "  <tbody>\n",
       "    <tr>\n",
       "      <th>count</th>\n",
       "      <td>97.000000</td>\n",
       "      <td>97.000000</td>\n",
       "    </tr>\n",
       "    <tr>\n",
       "      <th>mean</th>\n",
       "      <td>8.159800</td>\n",
       "      <td>5.839135</td>\n",
       "    </tr>\n",
       "    <tr>\n",
       "      <th>std</th>\n",
       "      <td>3.869884</td>\n",
       "      <td>5.510262</td>\n",
       "    </tr>\n",
       "    <tr>\n",
       "      <th>min</th>\n",
       "      <td>5.026900</td>\n",
       "      <td>-2.680700</td>\n",
       "    </tr>\n",
       "    <tr>\n",
       "      <th>25%</th>\n",
       "      <td>5.707700</td>\n",
       "      <td>1.986900</td>\n",
       "    </tr>\n",
       "    <tr>\n",
       "      <th>50%</th>\n",
       "      <td>6.589400</td>\n",
       "      <td>4.562300</td>\n",
       "    </tr>\n",
       "    <tr>\n",
       "      <th>75%</th>\n",
       "      <td>8.578100</td>\n",
       "      <td>7.046700</td>\n",
       "    </tr>\n",
       "    <tr>\n",
       "      <th>max</th>\n",
       "      <td>22.203000</td>\n",
       "      <td>24.147000</td>\n",
       "    </tr>\n",
       "  </tbody>\n",
       "</table>\n",
       "</div>"
      ],
      "text/plain": [
       "       Population     Profit\n",
       "count   97.000000  97.000000\n",
       "mean     8.159800   5.839135\n",
       "std      3.869884   5.510262\n",
       "min      5.026900  -2.680700\n",
       "25%      5.707700   1.986900\n",
       "50%      6.589400   4.562300\n",
       "75%      8.578100   7.046700\n",
       "max     22.203000  24.147000"
      ]
     },
     "execution_count": 575,
     "metadata": {},
     "output_type": "execute_result"
    }
   ],
   "source": [
    "#summary statistics\n",
    "data.describe()"
   ]
  },
  {
   "cell_type": "markdown",
   "metadata": {},
   "source": [
    "Those are some numbers all right! An important thing to note that we have 97  different rows or training examples. That is the value 'm', which will be important a little later on.\n",
    "\n",
    "Let's visualize the data with a machine learning favorite-the scatterplot- and see how much trouble we're in."
   ]
  },
  {
   "cell_type": "code",
   "execution_count": 576,
   "metadata": {},
   "outputs": [
    {
     "data": {
      "text/plain": [
       "<matplotlib.axes._subplots.AxesSubplot at 0x26e447c0860>"
      ]
     },
     "execution_count": 576,
     "metadata": {},
     "output_type": "execute_result"
    },
    {
     "data": {
      "image/png": "[encoded data removed]",
      "text/plain": [
       "<Figure size 864x576 with 1 Axes>"
      ]
     },
     "metadata": {},
     "output_type": "display_data"
    }
   ],
   "source": [
    "#initial scatter plot\n",
    "data.plot(kind='scatter', x='Population', y='Profit', figsize=(12,8))"
   ]
  },
  {
   "cell_type": "markdown",
   "metadata": {},
   "source": [
    "Now, let's put the data into something that's a bit more comfortable. We need to insert a columns of ones for the bias or intercept term. This term is important for a lot of reasons, but primary among them are: 1) the bias or intercept term does not restrict our model to passing through the origin and 2) we want to use a vectorized apporach. Vectorization is essential in machine learning because it's faster than using for-loops to do computation and the code is easier to read... if you think linear algebra is easy to read... anyway"
   ]
  },
  {
   "cell_type": "code",
   "execution_count": 577,
   "metadata": {},
   "outputs": [],
   "source": [
    "#add our column of ones\n",
    "data.insert(0, 'Ones', 1)"
   ]
  },
  {
   "cell_type": "code",
   "execution_count": 578,
   "metadata": {},
   "outputs": [
    {
     "data": {
      "text/html": [
       "<div>\n",
       "<style scoped>\n",
       "    .dataframe tbody tr th:only-of-type {\n",
       "        vertical-align: middle;\n",
       "    }\n",
       "\n",
       "    .dataframe tbody tr th {\n",
       "        vertical-align: top;\n",
       "    }\n",
       "\n",
       "    .dataframe thead th {\n",
       "        text-align: right;\n",
       "    }\n",
       "</style>\n",
       "<table border=\"1\" class=\"dataframe\">\n",
       "  <thead>\n",
       "    <tr style=\"text-align: right;\">\n",
       "      <th></th>\n",
       "      <th>Ones</th>\n",
       "      <th>Population</th>\n",
       "      <th>Profit</th>\n",
       "    </tr>\n",
       "  </thead>\n",
       "  <tbody>\n",
       "    <tr>\n",
       "      <th>0</th>\n",
       "      <td>1</td>\n",
       "      <td>6.1101</td>\n",
       "      <td>17.5920</td>\n",
       "    </tr>\n",
       "    <tr>\n",
       "      <th>1</th>\n",
       "      <td>1</td>\n",
       "      <td>5.5277</td>\n",
       "      <td>9.1302</td>\n",
       "    </tr>\n",
       "    <tr>\n",
       "      <th>2</th>\n",
       "      <td>1</td>\n",
       "      <td>8.5186</td>\n",
       "      <td>13.6620</td>\n",
       "    </tr>\n",
       "    <tr>\n",
       "      <th>3</th>\n",
       "      <td>1</td>\n",
       "      <td>7.0032</td>\n",
       "      <td>11.8540</td>\n",
       "    </tr>\n",
       "    <tr>\n",
       "      <th>4</th>\n",
       "      <td>1</td>\n",
       "      <td>5.8598</td>\n",
       "      <td>6.8233</td>\n",
       "    </tr>\n",
       "  </tbody>\n",
       "</table>\n",
       "</div>"
      ],
      "text/plain": [
       "   Ones  Population   Profit\n",
       "0     1      6.1101  17.5920\n",
       "1     1      5.5277   9.1302\n",
       "2     1      8.5186  13.6620\n",
       "3     1      7.0032  11.8540\n",
       "4     1      5.8598   6.8233"
      ]
     },
     "execution_count": 578,
     "metadata": {},
     "output_type": "execute_result"
    }
   ],
   "source": [
    "data.head()"
   ]
  },
  {
   "cell_type": "markdown",
   "metadata": {},
   "source": [
    "Let's access the columns of our data using .shape[1] so our approach is automatic or dynamic instead of hard coding the values in. This is important in coding because if the data changed, say for example, we get a new data file, we would not have to rewrite code to perform essentially the same job just with different data.\n",
    "\n",
    "Dear reader, for your information, .shape[0] would access our rows because Python indexes from 0."
   ]
  },
  {
   "cell_type": "code",
   "execution_count": 615,
   "metadata": {},
   "outputs": [],
   "source": [
    "cols = data.shape[1]"
   ]
  },
  {
   "cell_type": "code",
   "execution_count": 616,
   "metadata": {},
   "outputs": [
    {
     "data": {
      "text/plain": [
       "3"
      ]
     },
     "execution_count": 616,
     "metadata": {},
     "output_type": "execute_result"
    }
   ],
   "source": [
    "cols"
   ]
  },
  {
   "cell_type": "markdown",
   "metadata": {},
   "source": [
    "Time to create our X matrix and y vector variables. We can use python slicing and iloc which is a panda's method for indexing integers from a panda's dataframe. For an indepth explanation, see the third answer: https://stackoverflow.com/questions/31593201/pandas-iloc-vs-ix-vs-loc-explanation \n",
    "\n",
    "Let's use iloc from pandas and python slicing to access the first two columns of our data and create the matrix X. Then we can do the same thing for the last column to create the vector y."
   ]
  },
  {
   "cell_type": "code",
   "execution_count": 581,
   "metadata": {},
   "outputs": [],
   "source": [
    "X = data.iloc[:,0:cols-1]\n",
    "y = data.iloc[:,cols-1:cols]"
   ]
  },
  {
   "cell_type": "code",
   "execution_count": 582,
   "metadata": {},
   "outputs": [
    {
     "data": {
      "text/plain": [
       "(   Ones  Population\n",
       " 0     1      6.1101\n",
       " 1     1      5.5277\n",
       " 2     1      8.5186\n",
       " 3     1      7.0032\n",
       " 4     1      5.8598, (97, 2))"
      ]
     },
     "execution_count": 582,
     "metadata": {},
     "output_type": "execute_result"
    }
   ],
   "source": [
    "X.head(), X.shape"
   ]
  },
  {
   "cell_type": "code",
   "execution_count": 583,
   "metadata": {},
   "outputs": [
    {
     "data": {
      "text/plain": [
       "(    Profit\n",
       " 0  17.5920\n",
       " 1   9.1302\n",
       " 2  13.6620\n",
       " 3  11.8540\n",
       " 4   6.8233, (97, 1))"
      ]
     },
     "execution_count": 583,
     "metadata": {},
     "output_type": "execute_result"
    }
   ],
   "source": [
    "y.head(), y.shape"
   ]
  },
  {
   "cell_type": "markdown",
   "metadata": {},
   "source": [
    "As you can see, X is now a 97 by 2 matrix while y is a 97 by 1 column vector full of the values we want to predict.\n",
    "\n",
    "Now, let's check out numpy and see that we can do essentially the same things there as well!"
   ]
  },
  {
   "cell_type": "code",
   "execution_count": 584,
   "metadata": {},
   "outputs": [
    {
     "data": {
      "text/plain": [
       "((97, 2), (97, 1), 97)"
      ]
     },
     "execution_count": 584,
     "metadata": {},
     "output_type": "execute_result"
    }
   ],
   "source": [
    "#read in data using numpy\n",
    "np_data = np.loadtxt('ex1data1.txt', delimiter=',')\n",
    "\n",
    "X = np.c_[np.ones(np_data.shape[0]), np_data[:,0]]\n",
    "y = np.c_[np_data[:,1]]\n",
    "\n",
    "\n",
    "#confirm shape of variable objects, our matrices\n",
    "X.shape, y.shape, y.size"
   ]
  },
  {
   "cell_type": "markdown",
   "metadata": {},
   "source": [
    "Cool! We can look directly at the data too, though there is so much it's a bit overwhelming."
   ]
  },
  {
   "cell_type": "code",
   "execution_count": 585,
   "metadata": {},
   "outputs": [
    {
     "data": {
      "text/plain": [
       "array([[ 1.    ,  6.1101],\n",
       "       [ 1.    ,  5.5277],\n",
       "       [ 1.    ,  8.5186],\n",
       "       [ 1.    ,  7.0032],\n",
       "       [ 1.    ,  5.8598],\n",
       "       [ 1.    ,  8.3829],\n",
       "       [ 1.    ,  7.4764],\n",
       "       [ 1.    ,  8.5781],\n",
       "       [ 1.    ,  6.4862],\n",
       "       [ 1.    ,  5.0546],\n",
       "       [ 1.    ,  5.7107],\n",
       "       [ 1.    , 14.164 ],\n",
       "       [ 1.    ,  5.734 ],\n",
       "       [ 1.    ,  8.4084],\n",
       "       [ 1.    ,  5.6407],\n",
       "       [ 1.    ,  5.3794],\n",
       "       [ 1.    ,  6.3654],\n",
       "       [ 1.    ,  5.1301],\n",
       "       [ 1.    ,  6.4296],\n",
       "       [ 1.    ,  7.0708],\n",
       "       [ 1.    ,  6.1891],\n",
       "       [ 1.    , 20.27  ],\n",
       "       [ 1.    ,  5.4901],\n",
       "       [ 1.    ,  6.3261],\n",
       "       [ 1.    ,  5.5649],\n",
       "       [ 1.    , 18.945 ],\n",
       "       [ 1.    , 12.828 ],\n",
       "       [ 1.    , 10.957 ],\n",
       "       [ 1.    , 13.176 ],\n",
       "       [ 1.    , 22.203 ],\n",
       "       [ 1.    ,  5.2524],\n",
       "       [ 1.    ,  6.5894],\n",
       "       [ 1.    ,  9.2482],\n",
       "       [ 1.    ,  5.8918],\n",
       "       [ 1.    ,  8.2111],\n",
       "       [ 1.    ,  7.9334],\n",
       "       [ 1.    ,  8.0959],\n",
       "       [ 1.    ,  5.6063],\n",
       "       [ 1.    , 12.836 ],\n",
       "       [ 1.    ,  6.3534],\n",
       "       [ 1.    ,  5.4069],\n",
       "       [ 1.    ,  6.8825],\n",
       "       [ 1.    , 11.708 ],\n",
       "       [ 1.    ,  5.7737],\n",
       "       [ 1.    ,  7.8247],\n",
       "       [ 1.    ,  7.0931],\n",
       "       [ 1.    ,  5.0702],\n",
       "       [ 1.    ,  5.8014],\n",
       "       [ 1.    , 11.7   ],\n",
       "       [ 1.    ,  5.5416],\n",
       "       [ 1.    ,  7.5402],\n",
       "       [ 1.    ,  5.3077],\n",
       "       [ 1.    ,  7.4239],\n",
       "       [ 1.    ,  7.6031],\n",
       "       [ 1.    ,  6.3328],\n",
       "       [ 1.    ,  6.3589],\n",
       "       [ 1.    ,  6.2742],\n",
       "       [ 1.    ,  5.6397],\n",
       "       [ 1.    ,  9.3102],\n",
       "       [ 1.    ,  9.4536],\n",
       "       [ 1.    ,  8.8254],\n",
       "       [ 1.    ,  5.1793],\n",
       "       [ 1.    , 21.279 ],\n",
       "       [ 1.    , 14.908 ],\n",
       "       [ 1.    , 18.959 ],\n",
       "       [ 1.    ,  7.2182],\n",
       "       [ 1.    ,  8.2951],\n",
       "       [ 1.    , 10.236 ],\n",
       "       [ 1.    ,  5.4994],\n",
       "       [ 1.    , 20.341 ],\n",
       "       [ 1.    , 10.136 ],\n",
       "       [ 1.    ,  7.3345],\n",
       "       [ 1.    ,  6.0062],\n",
       "       [ 1.    ,  7.2259],\n",
       "       [ 1.    ,  5.0269],\n",
       "       [ 1.    ,  6.5479],\n",
       "       [ 1.    ,  7.5386],\n",
       "       [ 1.    ,  5.0365],\n",
       "       [ 1.    , 10.274 ],\n",
       "       [ 1.    ,  5.1077],\n",
       "       [ 1.    ,  5.7292],\n",
       "       [ 1.    ,  5.1884],\n",
       "       [ 1.    ,  6.3557],\n",
       "       [ 1.    ,  9.7687],\n",
       "       [ 1.    ,  6.5159],\n",
       "       [ 1.    ,  8.5172],\n",
       "       [ 1.    ,  9.1802],\n",
       "       [ 1.    ,  6.002 ],\n",
       "       [ 1.    ,  5.5204],\n",
       "       [ 1.    ,  5.0594],\n",
       "       [ 1.    ,  5.7077],\n",
       "       [ 1.    ,  7.6366],\n",
       "       [ 1.    ,  5.8707],\n",
       "       [ 1.    ,  5.3054],\n",
       "       [ 1.    ,  8.2934],\n",
       "       [ 1.    , 13.394 ],\n",
       "       [ 1.    ,  5.4369]])"
      ]
     },
     "execution_count": 585,
     "metadata": {},
     "output_type": "execute_result"
    }
   ],
   "source": [
    "X"
   ]
  },
  {
   "cell_type": "code",
   "execution_count": 586,
   "metadata": {},
   "outputs": [
    {
     "data": {
      "text/plain": [
       "array([[17.592  ],\n",
       "       [ 9.1302 ],\n",
       "       [13.662  ],\n",
       "       [11.854  ],\n",
       "       [ 6.8233 ],\n",
       "       [11.886  ],\n",
       "       [ 4.3483 ],\n",
       "       [12.     ],\n",
       "       [ 6.5987 ],\n",
       "       [ 3.8166 ],\n",
       "       [ 3.2522 ],\n",
       "       [15.505  ],\n",
       "       [ 3.1551 ],\n",
       "       [ 7.2258 ],\n",
       "       [ 0.71618],\n",
       "       [ 3.5129 ],\n",
       "       [ 5.3048 ],\n",
       "       [ 0.56077],\n",
       "       [ 3.6518 ],\n",
       "       [ 5.3893 ],\n",
       "       [ 3.1386 ],\n",
       "       [21.767  ],\n",
       "       [ 4.263  ],\n",
       "       [ 5.1875 ],\n",
       "       [ 3.0825 ],\n",
       "       [22.638  ],\n",
       "       [13.501  ],\n",
       "       [ 7.0467 ],\n",
       "       [14.692  ],\n",
       "       [24.147  ],\n",
       "       [-1.22   ],\n",
       "       [ 5.9966 ],\n",
       "       [12.134  ],\n",
       "       [ 1.8495 ],\n",
       "       [ 6.5426 ],\n",
       "       [ 4.5623 ],\n",
       "       [ 4.1164 ],\n",
       "       [ 3.3928 ],\n",
       "       [10.117  ],\n",
       "       [ 5.4974 ],\n",
       "       [ 0.55657],\n",
       "       [ 3.9115 ],\n",
       "       [ 5.3854 ],\n",
       "       [ 2.4406 ],\n",
       "       [ 6.7318 ],\n",
       "       [ 1.0463 ],\n",
       "       [ 5.1337 ],\n",
       "       [ 1.844  ],\n",
       "       [ 8.0043 ],\n",
       "       [ 1.0179 ],\n",
       "       [ 6.7504 ],\n",
       "       [ 1.8396 ],\n",
       "       [ 4.2885 ],\n",
       "       [ 4.9981 ],\n",
       "       [ 1.4233 ],\n",
       "       [-1.4211 ],\n",
       "       [ 2.4756 ],\n",
       "       [ 4.6042 ],\n",
       "       [ 3.9624 ],\n",
       "       [ 5.4141 ],\n",
       "       [ 5.1694 ],\n",
       "       [-0.74279],\n",
       "       [17.929  ],\n",
       "       [12.054  ],\n",
       "       [17.054  ],\n",
       "       [ 4.8852 ],\n",
       "       [ 5.7442 ],\n",
       "       [ 7.7754 ],\n",
       "       [ 1.0173 ],\n",
       "       [20.992  ],\n",
       "       [ 6.6799 ],\n",
       "       [ 4.0259 ],\n",
       "       [ 1.2784 ],\n",
       "       [ 3.3411 ],\n",
       "       [-2.6807 ],\n",
       "       [ 0.29678],\n",
       "       [ 3.8845 ],\n",
       "       [ 5.7014 ],\n",
       "       [ 6.7526 ],\n",
       "       [ 2.0576 ],\n",
       "       [ 0.47953],\n",
       "       [ 0.20421],\n",
       "       [ 0.67861],\n",
       "       [ 7.5435 ],\n",
       "       [ 5.3436 ],\n",
       "       [ 4.2415 ],\n",
       "       [ 6.7981 ],\n",
       "       [ 0.92695],\n",
       "       [ 0.152  ],\n",
       "       [ 2.8214 ],\n",
       "       [ 1.8451 ],\n",
       "       [ 4.2959 ],\n",
       "       [ 7.2029 ],\n",
       "       [ 1.9869 ],\n",
       "       [ 0.14454],\n",
       "       [ 9.0551 ],\n",
       "       [ 0.61705]])"
      ]
     },
     "execution_count": 586,
     "metadata": {},
     "output_type": "execute_result"
    }
   ],
   "source": [
    "y"
   ]
  },
  {
   "cell_type": "markdown",
   "metadata": {},
   "source": [
    "Sorry to spam you...\n",
    "Anyway, now we can code up our cost function denoted by J. For linear regression we use what is called the squared error/cost/loss function defined below as:\n",
    "#### $$ {J(\\theta)} = \\frac{1}{2m}\\sum_{i=1}^{m} ( h_\\theta (x^{(i)})-y^{(i)})^2 $$\n",
    "where h is the linear model defined by: $$ h_\\theta(x) = \\theta^Tx = \\theta_0 + \\theta_1 x_1 + \\theta_2 x_2 + ... +  \\theta_n x_n $$\n",
    "\n",
    "\n",
    "In the above equations, theta is what is called our parameter vector. The parameters of our models are simply numbers we multiply the values of our X matrix by to try and predict y. By changing these parameters (also called weights) we can improve (or worsen) how well we predict y. The cost function J takes theta's values, plugs them into our hypothesis function, h, and measures the difference between what our model predicts for a given x, xi, and a given y, yi. We then square this difference to remove any negative values and sum up all the differences for all our data points, the total number of data points is denoted by m. We multiply this value by 1/2 then, just to make the math a little easier when we start taking derivatives. n in the definition of h is the number of features and therefore parameters in the model.\n",
    "\n",
    "We then use J to evalute values we might choose for theta, our parameter vector.\n",
    "\n",
    "Typical practice is to intialize theta as a vector full of zeros whose element number is given by the column number (the number of features) of our matrix X. In other words, what would our cost be if theta was just full of zeros?\n",
    "\n",
    "Let's code it up! We can start by creating a function, a group of code we plan to use later, and pass it X and y. We should also set up a default theta which will be a vector with dimensionality equivalent to the number of columns X has. We can automatically obtain m by accessing the size of y. h can be created by recognizing that theta transpose X is just the dot product, which numpy is happy to calculate for us. The calculation of J then follows from squaring the difference between h and y, summing that up over all of data, and multiplying that by 1/2m. We then tell the function to return J, which by the end of all that math is just a number.\n"
   ]
  },
  {
   "cell_type": "code",
   "execution_count": 617,
   "metadata": {},
   "outputs": [],
   "source": [
    "def computeCost(X, y, theta = [[0]] * X.shape[1]):      \n",
    "      \n",
    "    m = y.size\n",
    "    \n",
    "    h = X.dot(theta)\n",
    "    \n",
    "    J = 1/ (2 * m) * np.sum(np.square(h - y))\n",
    "    \n",
    "    return J"
   ]
  },
  {
   "cell_type": "markdown",
   "metadata": {},
   "source": [
    "So we can now evalute the guess of theta just being 0 using the our cost function J."
   ]
  },
  {
   "cell_type": "code",
   "execution_count": 588,
   "metadata": {
    "scrolled": false
   },
   "outputs": [
    {
     "data": {
      "text/plain": [
       "32.072733877455676"
      ]
     },
     "execution_count": 588,
     "metadata": {},
     "output_type": "execute_result"
    }
   ],
   "source": [
    "computeCost(X, y)"
   ]
  },
  {
   "cell_type": "markdown",
   "metadata": {},
   "source": [
    "Not good! That is a huge cost meaning our current guess is just pathetic. That means we need to change the values of theta. But how can we do that? Let's use gradient descent.\n",
    "\n",
    "#### Gradient Descent\n",
    "\n",
    "#####  repeat until convergence {\n",
    "#### $$ \\theta_{j} := \\theta_{j} - \\alpha\\frac{\\partial J(\\theta)}{\\partial\\theta_{j}} $$\n",
    "##### }\n",
    "\n",
    "#### where $$ \\frac{\\partial J(\\theta)}{\\partial\\theta_{j}} = \\frac{1}{m}\\sum_{i=1}^{m} ( h_\\theta (x^{(i)})-y^{(i)})x^{(i)}_{j} $$\n",
    "\n",
    "In the above equations, the upside down e thing is the partial derivative of our cost function J with respect to theta j, that is, just some given theta. If you don't trust me, you can find an indepth derivation of how I arrived at this definition of the partial derivative in this repo.  Alpha is what is known as the learning rate, which is just a constant number we multiply the derivative term by to either speed up or slow down how quickly we're walking down the slope of our function. h is our hypothesis which is defined above.\n",
    "\n",
    "If you're unfamiliar with calculus, a derivative is the slope of a nonlinear function which our cost function happens to be. By using gradient descent we are harnessing the partial derivatives of J to guide us toward our cost function's global minimum. So, we just keep doing the math above until we reach this minimum. Luckily for us, our cost function happens to be a convex function, so the minimum will be the global minimum rather than some local minimum.\n",
    "\n",
    "Now with the math out of the way, we can set up the alpha value we want to use and the number of times we will repeat gradient descent. Andrew Ng suggests the following:"
   ]
  },
  {
   "cell_type": "code",
   "execution_count": 589,
   "metadata": {},
   "outputs": [],
   "source": [
    "alpha = 0.01\n",
    "iters = 1500"
   ]
  },
  {
   "cell_type": "markdown",
   "metadata": {},
   "source": [
    "Bangarang! Now we just need to code up a function to perform gradient descent on the parameters theta using our update equation. We will pass this function X, y, alpha (the learning rate), and iters (iterations). Iterations is the number of times we will perform gradient descent on the data. For your information, dear reader, we will generate theta automatically based on the number of columns the matrix X has. X could change, so we want the program to adapt to this change automatically. To make our implementation as efficient as possible, we will use a vectorized approach and avoid for-loops like the plague. \n",
    "\n",
    "We will also set up a variable cost to store the values of our cost function on each pass of gradient descent we perform. By doing this and storing these values based on the iteration number, we can then see if and how gradient descent is reducing our cost function, J.\n",
    "\n",
    "Unfortunately, dear reader, there is a for-loop below because I can think of no way of iterating over the data multiple times WITHOUT using some explicit for-loop. If you know of one, please let me know and collect your PhD in computer science cause you must be some kind of genius.\n",
    "\n",
    "After exiting the for-loop, our function will return our updated parameter values-theta- and the variable cost, which is just an array of all the different values our cost function computied during gradient descent."
   ]
  },
  {
   "cell_type": "code",
   "execution_count": 590,
   "metadata": {},
   "outputs": [],
   "source": [
    "def gradientDescent(X, y, alpha, iters):\n",
    "    \n",
    "    theta = [[0]] * X.shape[1]\n",
    "   \n",
    "    m = y.size\n",
    "    cost = np.zeros(iters)\n",
    "    \n",
    "    for i in np.arange(iters):\n",
    "        h = np.dot(X, theta)\n",
    "        theta = theta - alpha * (1 / m) * (X.T.dot(h - y))\n",
    "        cost[i] = computeCost(X, y, theta)\n",
    "    return theta, cost"
   ]
  },
  {
   "cell_type": "markdown",
   "metadata": {},
   "source": [
    "Now let's run the gradient descent algorithm to fit our parameters theta to the training set.\n",
    "new_theta is the updated theta values returned by our gradient descent function.\n",
    "cost is an array of our cost function values as they descreased with each iteration."
   ]
  },
  {
   "cell_type": "code",
   "execution_count": 591,
   "metadata": {},
   "outputs": [],
   "source": [
    "new_theta, cost = gradientDescent(X, y, alpha, iters)"
   ]
  },
  {
   "cell_type": "code",
   "execution_count": 592,
   "metadata": {},
   "outputs": [
    {
     "data": {
      "text/plain": [
       "(array([[-3.63029144],\n",
       "        [ 1.16636235]]), (2, 1))"
      ]
     },
     "execution_count": 592,
     "metadata": {},
     "output_type": "execute_result"
    }
   ],
   "source": [
    "new_theta, new_theta.shape"
   ]
  },
  {
   "cell_type": "code",
   "execution_count": 593,
   "metadata": {},
   "outputs": [
    {
     "data": {
      "text/plain": [
       "array([6.73719046, 5.93159357, 5.90115471, ..., 4.48343473, 4.48341145,\n",
       "       4.48338826])"
      ]
     },
     "execution_count": 593,
     "metadata": {},
     "output_type": "execute_result"
    }
   ],
   "source": [
    "cost"
   ]
  },
  {
   "cell_type": "markdown",
   "metadata": {},
   "source": [
    "Finally we can compute the cost (or the loss or the error) of the trained model using our fitted parameters."
   ]
  },
  {
   "cell_type": "code",
   "execution_count": 594,
   "metadata": {},
   "outputs": [
    {
     "data": {
      "text/plain": [
       "4.483388256587725"
      ]
     },
     "execution_count": 594,
     "metadata": {},
     "output_type": "execute_result"
    }
   ],
   "source": [
    "computeCost(X, y, new_theta)"
   ]
  },
  {
   "cell_type": "markdown",
   "metadata": {},
   "source": [
    "Now let's plot our linear model along with the data to visually see how well it fits.\n",
    "\n",
    "To draw our line, we use linspace to generate 100 linerally spaced values over our x interval. \n",
    "\n",
    "Remember that python indexes from 0. \n",
    "\n",
    "y = mx + b  or in this case y = b + mx.\n",
    "\n",
    "new_theta[0, 0] is the bias term, theta_0. \n",
    "\n",
    "new_theta[0, 1] is the slope, theta_1."
   ]
  },
  {
   "cell_type": "code",
   "execution_count": 595,
   "metadata": {},
   "outputs": [],
   "source": [
    "x_line = np.linspace(data.Population.min(), data.Population.max(), 100)\n",
    "y_line = new_theta.T[0, 0] + (new_theta.T[0, 1] * x_line)"
   ]
  },
  {
   "cell_type": "markdown",
   "metadata": {},
   "source": [
    "Finally we can draw our line! Let's also compare our fit with Scikit-learn's (SL) implementation of linear regression. SL sets up the bias or intercept term by themselves, so we will exclude our columns of 1s when we pass SL's function the matrix X. We will use .ravel() to essentially transform y from a column vector into an array to make SL happy. Then we will just access their bias term and slope and compare it to ours, multiplying both by the same x interval.\n",
    "\n",
    "#### Plotting note:\n",
    "plt.subplots() is a function that returns a tuple containing a figure and axes object(s). \n",
    "Thus when using fig, ax = plt.subplots() you unpack this tuple into the variables fig and ax. \n",
    "Having fig is useful if you want to change figure-level attributes or save the figure as an \n",
    "image file later (e.g. with fig.savefig('yourfilename.png'). \n",
    "You certainly don't have to use the returned figure object but many people do use it later so \n",
    "it's common to see. \n",
    "Also, all axes objects (the objects that have plotting methods (functions that are members of a class)), \n",
    "have a parent figure object anyway, thus:\n",
    "\n",
    "fig, ax = plt.subplots()\n",
    "is more concise than this:\n",
    "\n",
    "fig = plt.figure()\n",
    "\n",
    "ax = fig.add_subplot(111)\n",
    "\n",
    "111 means 1x1 grid, first subplot"
   ]
  },
  {
   "cell_type": "code",
   "execution_count": 596,
   "metadata": {},
   "outputs": [
    {
     "data": {
      "text/plain": [
       "Text(0.5,1,'Predicted Profit vs. Population Size')"
      ]
     },
     "execution_count": 596,
     "metadata": {},
     "output_type": "execute_result"
    },
    {
     "data": {
      "image/png": "[encoded data removed]",
      "text/plain": [
       "<Figure size 576x576 with 1 Axes>"
      ]
     },
     "metadata": {},
     "output_type": "display_data"
    }
   ],
   "source": [
    "from sklearn import linear_model\n",
    "lr = linear_model.LinearRegression()\n",
    "lr.fit(X[:,1].reshape(-1, 1), y.ravel())\n",
    "fig, ax = plt.subplots(figsize=(8,8))\n",
    "ax.plot(x_line, y_line, 'r', linewidth=3.0, label='Our Prediction')\n",
    "ax.plot(x_line, lr.intercept_+ lr.coef_* x_line, 'b', linewidth = 3.0, label = 'Scikit-learn Prediction')\n",
    "ax.scatter(data.Population, data.Profit, label='Training Data')\n",
    "ax.legend(loc = 2)\n",
    "ax.set_xlabel('Population in 10,000s')\n",
    "ax.set_ylabel('Profit in $10,000s')\n",
    "ax.set_title('Predicted Profit vs. Population Size')"
   ]
  },
  {
   "cell_type": "markdown",
   "metadata": {},
   "source": [
    "Almost identical! How cool is that? Too legit! \n",
    "Since our gradient descent function also outputs an array of the cost function's value at each training iteration, we can plot that as well to see our cost function decrease as we descend the gradient."
   ]
  },
  {
   "cell_type": "code",
   "execution_count": 618,
   "metadata": {},
   "outputs": [
    {
     "data": {
      "text/plain": [
       "Text(0.5,1,'Error descreasing with iteration number')"
      ]
     },
     "execution_count": 618,
     "metadata": {},
     "output_type": "execute_result"
    },
    {
     "data": {
      "image/png": "[encoded data removed]",
      "text/plain": [
       "<Figure size 576x576 with 1 Axes>"
      ]
     },
     "metadata": {},
     "output_type": "display_data"
    }
   ],
   "source": [
    "fig, ax = plt.subplots(figsize=(8, 8))\n",
    "#arange returns evenly spaced values within a given interval, in this case iters, 1500.\n",
    "ax.plot(np.arange(iters), cost, 'r')\n",
    "ax.set_xlabel('Iterations')\n",
    "ax.set_ylabel('Cost')\n",
    "ax.set_title('Error descreasing with iteration number')"
   ]
  },
  {
   "cell_type": "markdown",
   "metadata": {},
   "source": [
    "To help give better intuition about descending the gradient of the cost function and arriving at a minimum, you can take a look at the contour and 3d plot of our cost function below. The red dot in contour plot on the left is values of theta (our parameters) that our implementation of gradient descent arrived at, pretty close to the absolute minimum, but not quite.\n",
    "\n",
    "The 3d plot is a visualization of our cost function. What gradient descent attempts to do is walk down the \"hills\" on either side of that convex function and find the lowest point in the \"valley\" possible. It does this by manipulating the values of theta."
   ]
  },
  {
   "cell_type": "code",
   "execution_count": 598,
   "metadata": {},
   "outputs": [
    {
     "data": {
      "image/png": "[encoded data removed]",
      "text/plain": [
       "<Figure size 1080x432 with 2 Axes>"
      ]
     },
     "metadata": {},
     "output_type": "display_data"
    }
   ],
   "source": [
    "'''\n",
    "This cell of code was adapted from https://github.com/JWarmenhoven/Coursera-Machine-Learning, a master of data visualization.\n",
    "'''\n",
    "from mpl_toolkits.mplot3d import axes3d\n",
    "\n",
    "# Create grid coordinates for plotting\n",
    "B0 = np.linspace(-10, 10, 50)\n",
    "B1 = np.linspace(-1, 4, 50)\n",
    "xx, yy = np.meshgrid(B0, B1, indexing='xy')\n",
    "Z = np.zeros((B0.size, B1.size))\n",
    "\n",
    "# Calculate Z-values (Cost) based on grid of coefficients\n",
    "for (i, j), v in np.ndenumerate(Z):\n",
    "    Z[i, j] = computeCost(X, y, theta=[[xx[i, j]], [yy[i, j]]])\n",
    "\n",
    "fig = plt.figure(figsize=(15, 6))\n",
    "ax1 = fig.add_subplot(121)\n",
    "ax2 = fig.add_subplot(122, projection='3d')\n",
    "\n",
    "# Contour plot\n",
    "CS = ax1.contour(xx, yy, Z, np.logspace(-2, 3, 20), cmap=plt.cm.jet)\n",
    "ax1.scatter(new_theta[0], new_theta[1], c='r')\n",
    "\n",
    "# 3d plot\n",
    "ax2.plot_surface(xx, yy, Z, rstride=1, cstride=1, alpha=0.6, cmap=plt.cm.jet)\n",
    "ax2.set_zlabel('Cost')\n",
    "ax2.set_zlim(Z.min(), Z.max())\n",
    "ax2.view_init(elev=15, azim=230)\n",
    "\n",
    "# labeling thetas which is the same for both plots\n",
    "for ax in fig.axes:\n",
    "    ax.set_xlabel(r'$\\theta_0$', fontsize=17)\n",
    "    ax.set_ylabel(r'$\\theta_1$', fontsize=17)"
   ]
  },
  {
   "cell_type": "markdown",
   "metadata": {},
   "source": [
    "## Linear regression with multiple variables"
   ]
  },
  {
   "cell_type": "markdown",
   "metadata": {},
   "source": [
    "Now Andrew Ng has demanded we implement linear regression with multiple variables, also know as multivariate linear regression, which we will use to predict the prices of houses, Andrew Ng's favorite example. Andrew Ng says: Suppose you are selling your house and you want to know what a good market price would be. One way to do this is to first collect information on recent houses sold and make a model of housing prices.\n",
    "\n",
    "In this repo, the file ex1data2.txt contains a training set of housing prices in Portland, Oregon. The first column is the size of the house (in square feet), the second column is the number of bedrooms, and the third column is the price of the house. So if you've been paying attention, dear reader, our new X matrix will be the first two columns and our new y vector will be the last column because we want to use bedroom number and house size to try and predict house price.\n",
    "\n",
    "Let's take a look at this new data set as well."
   ]
  },
  {
   "cell_type": "code",
   "execution_count": 599,
   "metadata": {},
   "outputs": [],
   "source": [
    "######################################\n",
    "#MULTIVARIATE lINEAR REGRESSION\n",
    "######################################"
   ]
  },
  {
   "cell_type": "code",
   "execution_count": 600,
   "metadata": {},
   "outputs": [
    {
     "data": {
      "text/html": [
       "<div>\n",
       "<style scoped>\n",
       "    .dataframe tbody tr th:only-of-type {\n",
       "        vertical-align: middle;\n",
       "    }\n",
       "\n",
       "    .dataframe tbody tr th {\n",
       "        vertical-align: top;\n",
       "    }\n",
       "\n",
       "    .dataframe thead th {\n",
       "        text-align: right;\n",
       "    }\n",
       "</style>\n",
       "<table border=\"1\" class=\"dataframe\">\n",
       "  <thead>\n",
       "    <tr style=\"text-align: right;\">\n",
       "      <th></th>\n",
       "      <th>Size</th>\n",
       "      <th>Bedrooms</th>\n",
       "      <th>Price</th>\n",
       "    </tr>\n",
       "  </thead>\n",
       "  <tbody>\n",
       "    <tr>\n",
       "      <th>0</th>\n",
       "      <td>2104</td>\n",
       "      <td>3</td>\n",
       "      <td>399900</td>\n",
       "    </tr>\n",
       "    <tr>\n",
       "      <th>1</th>\n",
       "      <td>1600</td>\n",
       "      <td>3</td>\n",
       "      <td>329900</td>\n",
       "    </tr>\n",
       "    <tr>\n",
       "      <th>2</th>\n",
       "      <td>2400</td>\n",
       "      <td>3</td>\n",
       "      <td>369000</td>\n",
       "    </tr>\n",
       "    <tr>\n",
       "      <th>3</th>\n",
       "      <td>1416</td>\n",
       "      <td>2</td>\n",
       "      <td>232000</td>\n",
       "    </tr>\n",
       "    <tr>\n",
       "      <th>4</th>\n",
       "      <td>3000</td>\n",
       "      <td>4</td>\n",
       "      <td>539900</td>\n",
       "    </tr>\n",
       "  </tbody>\n",
       "</table>\n",
       "</div>"
      ],
      "text/plain": [
       "   Size  Bedrooms   Price\n",
       "0  2104         3  399900\n",
       "1  1600         3  329900\n",
       "2  2400         3  369000\n",
       "3  1416         2  232000\n",
       "4  3000         4  539900"
      ]
     },
     "execution_count": 600,
     "metadata": {},
     "output_type": "execute_result"
    }
   ],
   "source": [
    "#this code assumes the text file is in the same directory as the code file\n",
    "data2 = pd.read_csv('ex1data2.txt', header=None, names=['Size', 'Bedrooms', 'Price'])\n",
    "data2.head()"
   ]
  },
  {
   "cell_type": "markdown",
   "metadata": {},
   "source": [
    "uh oh... that's a problem. As you can see, our data take on very different values. What that means is that if we try to use gradient descent, it will take a very long time to converge because the variables in our data are on such different scales.\n",
    "\n",
    "What we can do to overcome this issue is something called mean normalization. What mean normalizaton does is subtract every data point from the mean of all data points of that same class and then divide that by that data class' standard deviation. Sounds hard right? Have no fear; pandas and numpy make it very easy! One note though: mean normalization should be done before inserting the column of ones for our bias or intercept term. "
   ]
  },
  {
   "cell_type": "code",
   "execution_count": 601,
   "metadata": {},
   "outputs": [
    {
     "data": {
      "text/plain": [
       "(       Size  Bedrooms     Price\n",
       " 0  0.130010 -0.223675  0.475747\n",
       " 1 -0.504190 -0.223675 -0.084074\n",
       " 2  0.502476 -0.223675  0.228626\n",
       " 3 -0.735723 -1.537767 -0.867025\n",
       " 4  1.257476  1.090417  1.595389, (47, 3))"
      ]
     },
     "execution_count": 601,
     "metadata": {},
     "output_type": "execute_result"
    }
   ],
   "source": [
    "data2 = (data2 - data2.mean()) / data2.std()\n",
    "data2.head(), data2.shape"
   ]
  },
  {
   "cell_type": "markdown",
   "metadata": {},
   "source": [
    "An additional note: trying to use this code before doing mean normalization will result in a crash because of numpy's value flooding.\n",
    "\n",
    "\n",
    "\n",
    "We can again use numpy to do all that same stuff. There's always more than one way to skin a cat."
   ]
  },
  {
   "cell_type": "code",
   "execution_count": 602,
   "metadata": {},
   "outputs": [
    {
     "data": {
      "text/plain": [
       "(array([[2.10400e+03, 3.00000e+00, 3.99900e+05],\n",
       "        [1.60000e+03, 3.00000e+00, 3.29900e+05],\n",
       "        [2.40000e+03, 3.00000e+00, 3.69000e+05],\n",
       "        [1.41600e+03, 2.00000e+00, 2.32000e+05],\n",
       "        [3.00000e+03, 4.00000e+00, 5.39900e+05],\n",
       "        [1.98500e+03, 4.00000e+00, 2.99900e+05],\n",
       "        [1.53400e+03, 3.00000e+00, 3.14900e+05],\n",
       "        [1.42700e+03, 3.00000e+00, 1.98999e+05],\n",
       "        [1.38000e+03, 3.00000e+00, 2.12000e+05],\n",
       "        [1.49400e+03, 3.00000e+00, 2.42500e+05],\n",
       "        [1.94000e+03, 4.00000e+00, 2.39999e+05],\n",
       "        [2.00000e+03, 3.00000e+00, 3.47000e+05],\n",
       "        [1.89000e+03, 3.00000e+00, 3.29999e+05],\n",
       "        [4.47800e+03, 5.00000e+00, 6.99900e+05],\n",
       "        [1.26800e+03, 3.00000e+00, 2.59900e+05],\n",
       "        [2.30000e+03, 4.00000e+00, 4.49900e+05],\n",
       "        [1.32000e+03, 2.00000e+00, 2.99900e+05],\n",
       "        [1.23600e+03, 3.00000e+00, 1.99900e+05],\n",
       "        [2.60900e+03, 4.00000e+00, 4.99998e+05],\n",
       "        [3.03100e+03, 4.00000e+00, 5.99000e+05],\n",
       "        [1.76700e+03, 3.00000e+00, 2.52900e+05],\n",
       "        [1.88800e+03, 2.00000e+00, 2.55000e+05],\n",
       "        [1.60400e+03, 3.00000e+00, 2.42900e+05],\n",
       "        [1.96200e+03, 4.00000e+00, 2.59900e+05],\n",
       "        [3.89000e+03, 3.00000e+00, 5.73900e+05],\n",
       "        [1.10000e+03, 3.00000e+00, 2.49900e+05],\n",
       "        [1.45800e+03, 3.00000e+00, 4.64500e+05],\n",
       "        [2.52600e+03, 3.00000e+00, 4.69000e+05],\n",
       "        [2.20000e+03, 3.00000e+00, 4.75000e+05],\n",
       "        [2.63700e+03, 3.00000e+00, 2.99900e+05],\n",
       "        [1.83900e+03, 2.00000e+00, 3.49900e+05],\n",
       "        [1.00000e+03, 1.00000e+00, 1.69900e+05],\n",
       "        [2.04000e+03, 4.00000e+00, 3.14900e+05],\n",
       "        [3.13700e+03, 3.00000e+00, 5.79900e+05],\n",
       "        [1.81100e+03, 4.00000e+00, 2.85900e+05],\n",
       "        [1.43700e+03, 3.00000e+00, 2.49900e+05],\n",
       "        [1.23900e+03, 3.00000e+00, 2.29900e+05],\n",
       "        [2.13200e+03, 4.00000e+00, 3.45000e+05],\n",
       "        [4.21500e+03, 4.00000e+00, 5.49000e+05],\n",
       "        [2.16200e+03, 4.00000e+00, 2.87000e+05],\n",
       "        [1.66400e+03, 2.00000e+00, 3.68500e+05],\n",
       "        [2.23800e+03, 3.00000e+00, 3.29900e+05],\n",
       "        [2.56700e+03, 4.00000e+00, 3.14000e+05],\n",
       "        [1.20000e+03, 3.00000e+00, 2.99000e+05],\n",
       "        [8.52000e+02, 2.00000e+00, 1.79900e+05],\n",
       "        [1.85200e+03, 4.00000e+00, 2.99900e+05],\n",
       "        [1.20300e+03, 3.00000e+00, 2.39500e+05]]), (47, 3))"
      ]
     },
     "execution_count": 602,
     "metadata": {},
     "output_type": "execute_result"
    }
   ],
   "source": [
    "np_data2 = np.loadtxt('ex1data2.txt', delimiter=',')\n",
    "np_data2, np_data2.shape"
   ]
  },
  {
   "cell_type": "code",
   "execution_count": 603,
   "metadata": {},
   "outputs": [
    {
     "data": {
      "text/plain": [
       "(array([[-0.63940029, -0.65139103,  1.63088354],\n",
       "        [-0.6422767 , -0.65139103,  1.23138262],\n",
       "        [-0.63771097, -0.65139103,  1.45453242],\n",
       "        [-0.64332681, -0.65139673,  0.67265204],\n",
       "        [-0.63428668, -0.65138532,  2.42988537],\n",
       "        [-0.64007944, -0.65138532,  1.06016794],\n",
       "        [-0.64265337, -0.65139103,  1.14577528],\n",
       "        [-0.64326404, -0.65139103,  0.48431019],\n",
       "        [-0.64353227, -0.65139103,  0.55850892],\n",
       "        [-0.64288166, -0.65139103,  0.73257718],\n",
       "        [-0.64033626, -0.65138532,  0.71830358],\n",
       "        [-0.63999384, -0.65139103,  1.32897498],\n",
       "        [-0.64062162, -0.65139103,  1.23194762],\n",
       "        [-0.6258515 , -0.65137961,  3.34303033],\n",
       "        [-0.64417147, -0.65139103,  0.8318817 ],\n",
       "        [-0.63828169, -0.65138532,  1.91624134],\n",
       "        [-0.6438747 , -0.65139673,  1.06016794],\n",
       "        [-0.6443541 , -0.65139103,  0.48945234],\n",
       "        [-0.63651818, -0.65138532,  2.20215844],\n",
       "        [-0.63410976, -0.65138532,  2.76717829],\n",
       "        [-0.6413236 , -0.65139103,  0.7919316 ],\n",
       "        [-0.64063304, -0.65139673,  0.80391663],\n",
       "        [-0.64225387, -0.65139103,  0.73486004],\n",
       "        [-0.64021071, -0.65138532,  0.8318817 ],\n",
       "        [-0.62920731, -0.65139103,  2.62392868],\n",
       "        [-0.64513028, -0.65139103,  0.77481014],\n",
       "        [-0.64308711, -0.65139103,  1.99956581],\n",
       "        [-0.63699187, -0.65139103,  2.02524801],\n",
       "        [-0.6388524 , -0.65139103,  2.05949095],\n",
       "        [-0.63635838, -0.65139103,  1.06016794],\n",
       "        [-0.64091269, -0.65139673,  1.34552574],\n",
       "        [-0.64570099, -0.65140244,  0.31823766],\n",
       "        [-0.63976555, -0.65138532,  1.14577528],\n",
       "        [-0.6335048 , -0.65139103,  2.65817161],\n",
       "        [-0.64107249, -0.65138532,  0.98026775],\n",
       "        [-0.64320696, -0.65139103,  0.77481014],\n",
       "        [-0.64433698, -0.65139103,  0.66066702],\n",
       "        [-0.63924049, -0.65138532,  1.31756067],\n",
       "        [-0.62735248, -0.65138532,  2.48182049],\n",
       "        [-0.63906928, -0.65138532,  0.98654562],\n",
       "        [-0.64191144, -0.65139673,  1.45167884],\n",
       "        [-0.63863553, -0.65139103,  1.23138262],\n",
       "        [-0.63675788, -0.65138532,  1.14063884],\n",
       "        [-0.64455956, -0.65139103,  1.0550315 ],\n",
       "        [-0.64654565, -0.65139673,  0.37530922],\n",
       "        [-0.64083849, -0.65138532,  1.06016794],\n",
       "        [-0.64454244, -0.65139103,  0.71545571]]), (47, 3))"
      ]
     },
     "execution_count": 603,
     "metadata": {},
     "output_type": "execute_result"
    }
   ],
   "source": [
    "np_data2 = (np_data2 - np.mean(np_data2)) / np.std(np_data2)\n",
    "np_data2, np_data2.shape"
   ]
  },
  {
   "cell_type": "code",
   "execution_count": 604,
   "metadata": {},
   "outputs": [
    {
     "data": {
      "text/plain": [
       "(47, 4)"
      ]
     },
     "execution_count": 604,
     "metadata": {},
     "output_type": "execute_result"
    }
   ],
   "source": [
    "#insert column of ones for the bias or intercept term\n",
    "np_data2 = np.c_[np.ones((np_data2.shape[0],1)), np_data2]\n",
    "np_data2.shape"
   ]
  },
  {
   "cell_type": "code",
   "execution_count": 605,
   "metadata": {},
   "outputs": [
    {
     "data": {
      "text/plain": [
       "((47, 3), (47, 1))"
      ]
     },
     "execution_count": 605,
     "metadata": {},
     "output_type": "execute_result"
    }
   ],
   "source": [
    "#set up X2 and y2\n",
    "X2 = np.c_[ np_data2[:, 0:3]]\n",
    "y2 = np.c_[np_data2[:,3]]\n",
    "X2.shape, y2.shape"
   ]
  },
  {
   "cell_type": "code",
   "execution_count": 606,
   "metadata": {},
   "outputs": [
    {
     "data": {
      "text/plain": [
       "array([[ 1.        , -0.63940029, -0.65139103],\n",
       "       [ 1.        , -0.6422767 , -0.65139103],\n",
       "       [ 1.        , -0.63771097, -0.65139103],\n",
       "       [ 1.        , -0.64332681, -0.65139673],\n",
       "       [ 1.        , -0.63428668, -0.65138532],\n",
       "       [ 1.        , -0.64007944, -0.65138532],\n",
       "       [ 1.        , -0.64265337, -0.65139103],\n",
       "       [ 1.        , -0.64326404, -0.65139103],\n",
       "       [ 1.        , -0.64353227, -0.65139103],\n",
       "       [ 1.        , -0.64288166, -0.65139103],\n",
       "       [ 1.        , -0.64033626, -0.65138532],\n",
       "       [ 1.        , -0.63999384, -0.65139103],\n",
       "       [ 1.        , -0.64062162, -0.65139103],\n",
       "       [ 1.        , -0.6258515 , -0.65137961],\n",
       "       [ 1.        , -0.64417147, -0.65139103],\n",
       "       [ 1.        , -0.63828169, -0.65138532],\n",
       "       [ 1.        , -0.6438747 , -0.65139673],\n",
       "       [ 1.        , -0.6443541 , -0.65139103],\n",
       "       [ 1.        , -0.63651818, -0.65138532],\n",
       "       [ 1.        , -0.63410976, -0.65138532],\n",
       "       [ 1.        , -0.6413236 , -0.65139103],\n",
       "       [ 1.        , -0.64063304, -0.65139673],\n",
       "       [ 1.        , -0.64225387, -0.65139103],\n",
       "       [ 1.        , -0.64021071, -0.65138532],\n",
       "       [ 1.        , -0.62920731, -0.65139103],\n",
       "       [ 1.        , -0.64513028, -0.65139103],\n",
       "       [ 1.        , -0.64308711, -0.65139103],\n",
       "       [ 1.        , -0.63699187, -0.65139103],\n",
       "       [ 1.        , -0.6388524 , -0.65139103],\n",
       "       [ 1.        , -0.63635838, -0.65139103],\n",
       "       [ 1.        , -0.64091269, -0.65139673],\n",
       "       [ 1.        , -0.64570099, -0.65140244],\n",
       "       [ 1.        , -0.63976555, -0.65138532],\n",
       "       [ 1.        , -0.6335048 , -0.65139103],\n",
       "       [ 1.        , -0.64107249, -0.65138532],\n",
       "       [ 1.        , -0.64320696, -0.65139103],\n",
       "       [ 1.        , -0.64433698, -0.65139103],\n",
       "       [ 1.        , -0.63924049, -0.65138532],\n",
       "       [ 1.        , -0.62735248, -0.65138532],\n",
       "       [ 1.        , -0.63906928, -0.65138532],\n",
       "       [ 1.        , -0.64191144, -0.65139673],\n",
       "       [ 1.        , -0.63863553, -0.65139103],\n",
       "       [ 1.        , -0.63675788, -0.65138532],\n",
       "       [ 1.        , -0.64455956, -0.65139103],\n",
       "       [ 1.        , -0.64654565, -0.65139673],\n",
       "       [ 1.        , -0.64083849, -0.65138532],\n",
       "       [ 1.        , -0.64454244, -0.65139103]])"
      ]
     },
     "execution_count": 606,
     "metadata": {},
     "output_type": "execute_result"
    }
   ],
   "source": [
    "X2"
   ]
  },
  {
   "cell_type": "code",
   "execution_count": 607,
   "metadata": {},
   "outputs": [
    {
     "data": {
      "text/plain": [
       "array([[1.63088354],\n",
       "       [1.23138262],\n",
       "       [1.45453242],\n",
       "       [0.67265204],\n",
       "       [2.42988537],\n",
       "       [1.06016794],\n",
       "       [1.14577528],\n",
       "       [0.48431019],\n",
       "       [0.55850892],\n",
       "       [0.73257718],\n",
       "       [0.71830358],\n",
       "       [1.32897498],\n",
       "       [1.23194762],\n",
       "       [3.34303033],\n",
       "       [0.8318817 ],\n",
       "       [1.91624134],\n",
       "       [1.06016794],\n",
       "       [0.48945234],\n",
       "       [2.20215844],\n",
       "       [2.76717829],\n",
       "       [0.7919316 ],\n",
       "       [0.80391663],\n",
       "       [0.73486004],\n",
       "       [0.8318817 ],\n",
       "       [2.62392868],\n",
       "       [0.77481014],\n",
       "       [1.99956581],\n",
       "       [2.02524801],\n",
       "       [2.05949095],\n",
       "       [1.06016794],\n",
       "       [1.34552574],\n",
       "       [0.31823766],\n",
       "       [1.14577528],\n",
       "       [2.65817161],\n",
       "       [0.98026775],\n",
       "       [0.77481014],\n",
       "       [0.66066702],\n",
       "       [1.31756067],\n",
       "       [2.48182049],\n",
       "       [0.98654562],\n",
       "       [1.45167884],\n",
       "       [1.23138262],\n",
       "       [1.14063884],\n",
       "       [1.0550315 ],\n",
       "       [0.37530922],\n",
       "       [1.06016794],\n",
       "       [0.71545571]])"
      ]
     },
     "execution_count": 607,
     "metadata": {},
     "output_type": "execute_result"
    }
   ],
   "source": [
    "y2"
   ]
  },
  {
   "cell_type": "markdown",
   "metadata": {},
   "source": [
    "So, what do we need to do adapt our algorithm to deal with the increased dimensionality of our data? Nothing! Because we implemented a fully automatic, dynamic, and vectorized implementation of linear regression with gradient descent, all we need to do is pass our functions our new X2 matrix and y2 vector and watch our model work its magic!"
   ]
  },
  {
   "cell_type": "code",
   "execution_count": 608,
   "metadata": {},
   "outputs": [
    {
     "data": {
      "text/plain": [
       "0.25034752067521343"
      ]
     },
     "execution_count": 608,
     "metadata": {},
     "output_type": "execute_result"
    }
   ],
   "source": [
    "# perform linear regression on the new data set\n",
    "new_theta2, cost2 = gradientDescent(X2, y2, alpha, iters)\n",
    "\n",
    "# get the cost (or the loss or the error) of the model\n",
    "computeCost(X2, y2, new_theta2)"
   ]
  },
  {
   "cell_type": "code",
   "execution_count": 609,
   "metadata": {},
   "outputs": [
    {
     "data": {
      "text/plain": [
       "(array([[ 0.71788451],\n",
       "        [-0.41868656],\n",
       "        [-0.46760264]]), (3, 1))"
      ]
     },
     "execution_count": 609,
     "metadata": {},
     "output_type": "execute_result"
    }
   ],
   "source": [
    "new_theta2, new_theta2.shape"
   ]
  },
  {
   "cell_type": "markdown",
   "metadata": {},
   "source": [
    "Let's see how the cost function decreased on the new data set."
   ]
  },
  {
   "cell_type": "code",
   "execution_count": 610,
   "metadata": {},
   "outputs": [
    {
     "data": {
      "text/plain": [
       "Text(0.5,1,'Error decreasing with training on new training set')"
      ]
     },
     "execution_count": 610,
     "metadata": {},
     "output_type": "execute_result"
    },
    {
     "data": {
      "image/png": "[encoded data removed]",
      "text/plain": [
       "<Figure size 864x576 with 1 Axes>"
      ]
     },
     "metadata": {},
     "output_type": "display_data"
    }
   ],
   "source": [
    "fig, ax = plt.subplots(figsize=(12, 8))\n",
    "ax.plot(np.arange(iters), cost2, 'r')\n",
    "ax.set_xlabel('Iterations')\n",
    "ax.set_ylabel('Cost')\n",
    "ax.set_title('Error decreasing with training on new training set')"
   ]
  },
  {
   "cell_type": "markdown",
   "metadata": {},
   "source": [
    "Unfortunately, owing to the fact that the new data is of greater dimensionality and because humans can only visualize in 3 dimensions, I can't draw any other pretty pictures of the new training set to show you, dear reader. However, I hope you are statisfied with this implementation of linear regression with gradient descent. \n",
    "\n",
    "As mentioned above, gradient descent is an iterative algorithm, so it looks at the data many times to provide a solution. There is an alternative to gradient descent which uses an analytic solution to find the optimized values of theta without any iteration at all. This solution is called the normal equation and it comes from setting the partial derivatives equal to zero and solving for theta with a bunch of math. The detailed derivation can be found page 11 of cs229-notes1.pdf in this repo. It's quite mathy, so I won't go into detail here, but the solution is obtained as:\n",
    "\n",
    "#### Normal equation solution\n",
    "$$ \\theta = (X^TX)^{-1} X^Ty $$\n",
    "\n",
    "where X is a matrix and y is a vector.\n",
    "\n",
    "Just gotta code it up!"
   ]
  },
  {
   "cell_type": "code",
   "execution_count": 622,
   "metadata": {},
   "outputs": [],
   "source": [
    "#no need for mean normalization with normal equation. resetting variables.\n",
    "np_data2 = np.loadtxt('ex1data2.txt', delimiter=',')\n",
    "np_data2 = np.c_[np.ones((np_data2.shape[0],1)), np_data2]\n",
    "X2 = np.c_[ np_data2[:, 0:3]]\n",
    "y2 = np.c_[np_data2[:,3]]"
   ]
  },
  {
   "cell_type": "code",
   "execution_count": 626,
   "metadata": {},
   "outputs": [],
   "source": [
    "# inv means inverse (raising something to the -1)\n",
    "from numpy.linalg import inv\n",
    "#Using the normal equation, an analytic, rather than iterative, solution to the linear regression optimization problem\n",
    "def normalEquation(X, y):\n",
    "    \n",
    "    first = (inv(np.dot(X.T, X)))\n",
    "    \n",
    "    second = np.dot(X.T, y)\n",
    "    \n",
    "    return np.dot(first, second).T\n"
   ]
  },
  {
   "cell_type": "markdown",
   "metadata": {},
   "source": [
    "Using the normal equation we can now answer the question: if a house has 1650 square feet and 3 bedrooms, how much will it cost?"
   ]
  },
  {
   "cell_type": "code",
   "execution_count": 627,
   "metadata": {},
   "outputs": [
    {
     "name": "stdout",
     "output_type": "stream",
     "text": [
      "$293081.46\n"
     ]
    }
   ],
   "source": [
    "# the one is the bias term\n",
    "theta = [[1], [1650], [3]]\n",
    "print(\"$%0.2f\" % float(np.dot(normalEquation(X2, y2), theta)))"
   ]
  },
  {
   "cell_type": "markdown",
   "metadata": {},
   "source": [
    "And we're done. Thank you for reading, dear reader!"
   ]
  }
 ],
 "metadata": {
  "kernelspec": {
   "display_name": "Python 3",
   "language": "python",
   "name": "python3"
  },
  "language_info": {
   "codemirror_mode": {
    "name": "ipython",
    "version": 3
   },
   "file_extension": ".py",
   "mimetype": "text/x-python",
   "name": "python",
   "nbconvert_exporter": "python",
   "pygments_lexer": "ipython3",
   "version": "3.6.5"
  }
 },
 "nbformat": 4,
 "nbformat_minor": 2
}
